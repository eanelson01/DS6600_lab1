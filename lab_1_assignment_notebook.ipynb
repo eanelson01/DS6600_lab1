{
 "cells": [
  {
   "cell_type": "markdown",
   "id": "f7a5ddae-19f9-4c22-aae1-d59cbfd4be8b",
   "metadata": {},
   "source": [
    "# Data Engineering 1: Lab 1 Assignment Notebook"
   ]
  },
  {
   "cell_type": "markdown",
   "id": "37a999c8-1386-4873-8370-eac07d8e03bb",
   "metadata": {},
   "source": [
    "## Question 1"
   ]
  },
  {
   "cell_type": "markdown",
   "id": "66b5ddab-2d81-4fec-903f-6f21bc6ce5d7",
   "metadata": {},
   "source": [
    "https://github.com/eanelson01/DS6600_lab1"
   ]
  },
  {
   "cell_type": "markdown",
   "id": "725d78dd-68e9-4f5b-9543-37be39ecafd9",
   "metadata": {},
   "source": [
    "## Question 2"
   ]
  },
  {
   "cell_type": "markdown",
   "id": "b8a9c071-eefd-4048-b1ac-85a148baf7bf",
   "metadata": {},
   "source": [
    "### Raw Pipfile Output"
   ]
  },
  {
   "cell_type": "raw",
   "id": "59fd5f90-95ff-4a25-8a11-dcbd2874f786",
   "metadata": {},
   "source": [
    "[[source]]\n",
    "url = \"https://pypi.org/simple\"\n",
    "verify_ssl = true\n",
    "name = \"pypi\"\n",
    "\n",
    "[packages]\n",
    "numpy = \"==1.25.2\"\n",
    "pandas = \"==2.0.3\"\n",
    "matplotlib = \"==3.7.2\"\n",
    "requests = \"==2.31.0\"\n",
    "jupyterlab = \"==4.0.5\"\n",
    "ipykernel = \"==6.25.1\"\n",
    "\n",
    "[dev-packages]\n",
    "\n",
    "[requires]\n",
    "python_version = \"3.11\"\n",
    "python_full_version = \"3.11.4\""
   ]
  },
  {
   "cell_type": "code",
   "execution_count": 1,
   "id": "e0e4d36d-8c05-4d1e-bc0f-c97fa93a75cb",
   "metadata": {},
   "outputs": [
    {
     "name": "stdout",
     "output_type": "stream",
     "text": [
      "Python 3.11.4\n"
     ]
    }
   ],
   "source": [
    "!python --version"
   ]
  },
  {
   "cell_type": "code",
   "execution_count": 2,
   "id": "91e02136-a2e5-462d-92a7-fa714a1c9206",
   "metadata": {},
   "outputs": [],
   "source": [
    "import numpy\n",
    "import pandas\n",
    "import matplotlib\n",
    "import requests"
   ]
  },
  {
   "cell_type": "code",
   "execution_count": 3,
   "id": "0de30a6e-5436-4b1f-9213-f8b9558b90c2",
   "metadata": {},
   "outputs": [
    {
     "ename": "ModuleNotFoundError",
     "evalue": "No module named 'sklearn'",
     "output_type": "error",
     "traceback": [
      "\u001b[0;31m---------------------------------------------------------------------------\u001b[0m",
      "\u001b[0;31mModuleNotFoundError\u001b[0m                       Traceback (most recent call last)",
      "Cell \u001b[0;32mIn[3], line 1\u001b[0m\n\u001b[0;32m----> 1\u001b[0m \u001b[38;5;28;01mimport\u001b[39;00m \u001b[38;5;21;01msklearn\u001b[39;00m\n",
      "\u001b[0;31mModuleNotFoundError\u001b[0m: No module named 'sklearn'"
     ]
    }
   ],
   "source": [
    "import sklearn"
   ]
  },
  {
   "cell_type": "markdown",
   "id": "61f60930-8ac0-4415-be65-bcb4a45386be",
   "metadata": {},
   "source": [
    "## Question 3"
   ]
  },
  {
   "cell_type": "markdown",
   "id": "7fe4b3ea-5aa7-40f1-bb74-0dbfdb47e4f5",
   "metadata": {},
   "source": [
    "### Example A\n",
    "\n",
    "A virtual machine is the best choice for this example becuase you need to access it through an internet connection and it needs large amounts of storage. This necessitates selection of the specific hardware to handle the larger storage size and to keep it accessible through the internet. As well, the virtual machine allows you to specify the versions of Python and the operating system which is useful.\n",
    "\n",
    "The global environment would not work because there is no way to have it accessible through the internet and there is a limit on the storage capacity based on each local machine's hardware.\n",
    "\n",
    "A virtual environment would not work because it is once again working on your local machine and would have storage constraints. There wouldn't be an easy way for it to be accessible through an internet connection as well.\n",
    "\n",
    "A container would not work because it does not allow you to specify the hardware for the increased storage needs. It would be accessible through the internet because of Dockerhub which makes it the second best option. But once again, there would be hardware constraints that necessitates the use of a virtual machine. "
   ]
  },
  {
   "cell_type": "markdown",
   "id": "1488b367-0835-444b-8574-eaed28c7aac6",
   "metadata": {},
   "source": [
    "### Example B\n",
    "\n",
    "A global environment of a single computer is the best choice for this example since the task is just data cleaning and the contractors do not need the code. This means that you can use whatever Python version or packages you want, and the code doesn't need to be as reproducible in the future. \n",
    "\n",
    "A virtual environment would be overkill since you do not need to specify the type of Python or the packages. No one needs to use the code after you and the base versions on your computer should be enough to generate the report.\n",
    "\n",
    "A container would be overkill since there is not need to specify the type of Python or operating system. Running it on you base operating system is fine since there are no Linux based programs that you need or a need for a reproducible environment.\n",
    "\n",
    "A virtual machine would be overkill since there is no need to specify the Python version, operating system, or hardware. There are no needs for additional storage or computing power for a simple data cleaning task. "
   ]
  },
  {
   "cell_type": "markdown",
   "id": "351e3783-3e91-41fe-a0f1-0e0089ca3ffb",
   "metadata": {},
   "source": [
    "### Example C\n",
    "\n",
    "A container is the best choice for this example beacuse it allows you to specify the version of Python and Linux that you need. Since we need a specific type of Linux (Ubuntu), a container is useful since you can pick a base image that matches it and the version of Python you want.\n",
    "\n",
    "The global environment would not work because there could be a different type of Python than the desired one. The major problem would be that it is likely that the global environment is not running on Ubuntu Linux. As well, you would want others to be able to replicate the version of Linux you are using.\n",
    "\n",
    "A virtual environment would not work because it only allows you to change the type of Python, not the operating system. This means it runs into the same problem as the gloabal environment where you cannot specify the type of Linux to run on.\n",
    "\n",
    "A virtual machine would be overkill because there is no need to change the hardware that the script is running on. There are no storage or computing requirements that necessitate a virtual machine."
   ]
  },
  {
   "cell_type": "markdown",
   "id": "14c28306-2217-46a3-9a5f-f98a6f097656",
   "metadata": {},
   "source": [
    "### Example D\n",
    "\n",
    "A virtual environment is the best choice for this example because it allows you to specify the versions of Python and its packages. This ensures that the program will always work with Python 3 in the future even with the release of Python 4 or new package versions. The environment is reproducible in the future.\n",
    "\n",
    "The global environment would not work because the Python version could be upgraded in the future and that would break the script. As well the packages could be upgraded with pip and no longer allow the script to work. \n",
    "\n",
    "A container would be overkill because there is no need to set the OS to be linux or antyhing else. We only need to control the version of Python and the packages to ensure it works in the future.\n",
    "\n",
    "A virtual environment would be overkill because there is no need to set the OS and hardware. Again, we only need to control the version of Python and its packages."
   ]
  }
 ],
 "metadata": {
  "kernelspec": {
   "display_name": "lab1env",
   "language": "python",
   "name": "lab1env"
  },
  "language_info": {
   "codemirror_mode": {
    "name": "ipython",
    "version": 3
   },
   "file_extension": ".py",
   "mimetype": "text/x-python",
   "name": "python",
   "nbconvert_exporter": "python",
   "pygments_lexer": "ipython3",
   "version": "3.11.4"
  }
 },
 "nbformat": 4,
 "nbformat_minor": 5
}
